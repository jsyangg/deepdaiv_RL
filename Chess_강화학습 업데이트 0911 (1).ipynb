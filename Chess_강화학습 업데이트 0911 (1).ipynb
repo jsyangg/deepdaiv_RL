{
 "cells": [
  {
   "cell_type": "code",
   "execution_count": 1,
   "id": "0f2191d9",
   "metadata": {},
   "outputs": [],
   "source": [
    "import numpy as np\n",
    "import pandas as pd"
   ]
  },
  {
   "cell_type": "code",
   "execution_count": 2,
   "id": "62f51f54",
   "metadata": {},
   "outputs": [],
   "source": [
    "board = pd.DataFrame([[\"B\",\"B\",\"B\",\"B\"],\n",
    "                      [\"-\",\"-\",\"-\",\"-\"],\n",
    "                      [\"-\",\"-\",\"-\",\"-\"],\n",
    "                      [\"W\",\"W\",\"W\",\"W\"]])"
   ]
  },
  {
   "cell_type": "code",
   "execution_count": 3,
   "id": "d8b2ba8b",
   "metadata": {},
   "outputs": [],
   "source": [
    "def available_action_white(i,j):\n",
    "    if board[i][j] == \"W\" :\n",
    "        if i != 0 and i != 3 and j != 0:\n",
    "            if board[i][j-1] == \"-\" :\n",
    "                if board[i-1][j-1] != \"B\" and board[i+1][j-1] != \"B\" :\n",
    "                    return \"U\"\n",
    "                if board[i-1][j-1] == \"B\" and board[i+1][j-1] != \"B\" :\n",
    "                    return \"UL\"\n",
    "                if board[i-1][j-1] != \"B\" and board[i+1][j-1] == \"B\" :\n",
    "                    return \"UR\"              \n",
    "                if board[i-1][j-1] == \"B\" and board[i+1][j-1] == \"B\" :\n",
    "                    return \"ULR\"\n",
    "            \n",
    "            if board[i][j-1] != \"-\"  :\n",
    "                if board[i-1][j-1] != \"B\" and board[i+1][j-1] != \"B\" :\n",
    "                    return \"N\"\n",
    "                if board[i-1][j-1] == \"B\" and board[i+1][j-1] != \"B\" :\n",
    "                    return \"L\"\n",
    "                if board[i-1][j-1] != \"B\" and board[i+1][j-1] == \"B\" :\n",
    "                    return \"R\"                \n",
    "                if board[i-1][j-1] == \"B\" and board[i+1][j-1] == \"B\" :\n",
    "                    return \"LR\"\n",
    "\n",
    "        if i == 0 and j != 0:\n",
    "            if board[i][j-1] == \"-\" :\n",
    "                if board[i+1][j-1] != \"B\" :\n",
    "                    return \"U\"\n",
    "                if board[i+1][j-1] == \"B\" :\n",
    "                    return \"UR\" \n",
    "                \n",
    "            if board[i][j-1] != \"-\" :           \n",
    "                if board[i+1][j-1] != \"B\" :\n",
    "                    return \"N\"\n",
    "                if board[i+1][j-1] == \"B\" :\n",
    "                    return \"R\"                \n",
    "\n",
    "            \n",
    "        if i == 3 and j != 0: \n",
    "            if board[i][j-1] == \"-\" : \n",
    "                if board[i-1][j-1] != \"B\" :\n",
    "                    return \"U\"\n",
    "                if board[i-1][j-1] == \"B\" :\n",
    "                    return \"UL\"   \n",
    "                \n",
    "            if board[i][j-1] != \"-\" :            \n",
    "                if board[i-1][j-1] != \"B\" :\n",
    "                    return \"N\"\n",
    "                if board[i-1][j-1] == \"B\" :\n",
    "                    return \"L\"             \n",
    "        elif j == 0:  \n",
    "            return \"N\"\n",
    "    else :\n",
    "        return \"N\""
   ]
  },
  {
   "cell_type": "code",
   "execution_count": 4,
   "id": "67755d01",
   "metadata": {},
   "outputs": [],
   "source": [
    "def black_move_down(i,j) :\n",
    "    if j==3 :\n",
    "        return \"Unavailable Movement\"\n",
    "    elif board[i][j] == \"-\"  :\n",
    "        return \"Unavailable Movement\"\n",
    "    elif board[i][j] == \"W\"  :\n",
    "        return \"Unavailable Movement\"    \n",
    "    elif board[i][j+1] == \"W\"  :\n",
    "        return \"Unavailable Movement\"   \n",
    "    elif board[i][j+1] == \"B\"  :\n",
    "        return \"Unavailable Movement\"     \n",
    "    elif board[i][j] == \"B\" and board[i][j+1] == \"-\":\n",
    "        board[i][j+1]=board[i][j]\n",
    "        board[i][j] = \"-\"\n",
    "        return \"black_move_down\""
   ]
  },
  {
   "cell_type": "code",
   "execution_count": 5,
   "id": "3ad8ac99",
   "metadata": {},
   "outputs": [],
   "source": [
    "def white_move_up(i,j):\n",
    "    if j==0 :\n",
    "        return \"Unavailable Movement\"\n",
    "    elif board[i][j] == \"-\"  :\n",
    "        return \"Unavailable Movement\"\n",
    "    elif board[i][j] == \"B\"  :\n",
    "        return \"Unavailable Movement\"    \n",
    "    elif board[i][j-1] == \"W\"  :\n",
    "        return \"Unavailable Movement\"\n",
    "    elif board[i][j-1] == \"B\"  :\n",
    "        return \"Unavailable Movement\"  \n",
    "    elif board[i][j] == \"W\" and board[i][j-1] == \"-\":\n",
    "        board[i][j-1]=board[i][j]\n",
    "        board[i][j] = \"-\"\n",
    "        return \"white_move_up\""
   ]
  },
  {
   "cell_type": "code",
   "execution_count": 6,
   "id": "268b207f",
   "metadata": {},
   "outputs": [],
   "source": [
    "def black_attack_left(i,j):\n",
    "    if i == 0 :\n",
    "        return \"Unavailable Movement\"\n",
    "    elif j == 3 :\n",
    "        return \"Unavailable Movement\"\n",
    "    elif board[i][j] == \"-\"  :\n",
    "        return \"Unavailable Movement\"\n",
    "    elif board[i][j] == \"W\"  :\n",
    "        return \"Unavailable Movement\"   \n",
    "    elif board[i-1][j+1] == \"W\":\n",
    "        board[i-1][j+1]=board[i][j]\n",
    "        board[i][j]=\"-\"\n",
    "        return \"black_attack_left\"\n",
    "    elif board[i-1][j+1] == \"-\":\n",
    "        return \"Unavailable Movement\"\n",
    "    elif board[i-1][j+1] == \"B\":\n",
    "        return \"Unavailable Movement\""
   ]
  },
  {
   "cell_type": "code",
   "execution_count": 7,
   "id": "f698554a",
   "metadata": {},
   "outputs": [],
   "source": [
    "def black_attack_right(i,j):\n",
    "    if i == 3 :\n",
    "        return \"Unavailable Movement\"\n",
    "    elif j == 3 :\n",
    "        return \"Unavailable Movement\"\n",
    "    elif board[i][j] == \"-\"  :\n",
    "        return \"Unavailable Movement\"\n",
    "    elif board[i][j] == \"W\"  :\n",
    "        return \"Unavailable Movement\"   \n",
    "    elif board[i+1][j+1] == \"W\":\n",
    "        board[i+1][j+1]=board[i][j]\n",
    "        board[i][j]=\"-\"\n",
    "        return \"black_attack_right\"\n",
    "    elif board[i+1][j+1] == \"-\":\n",
    "        return \"Unavailable Movement\"\n",
    "    elif board[i+1][j+1] == \"B\":\n",
    "        return \"Unavailable Movement\""
   ]
  },
  {
   "cell_type": "code",
   "execution_count": 8,
   "id": "3fde1de4",
   "metadata": {},
   "outputs": [],
   "source": [
    "def white_attack_left(i,j):\n",
    "    if i == 0 :\n",
    "        return \"Unavailable Movement\"\n",
    "    elif j == 0 :\n",
    "        return \"Unavailable Movement\"\n",
    "    elif board[i][j] == \"-\" :\n",
    "        return \"Unavailable Movement\"\n",
    "    elif board[i][j] == \"B\"  :\n",
    "        return \"Unavailable Movement\"   \n",
    "    elif board[i-1][j-1] == \"B\":\n",
    "        board[i-1][j-1]=board[i][j]\n",
    "        board[i][j]=\"-\"\n",
    "        return \"white_attack_left\"\n",
    "    elif board[i-1][j-1] == \"-\":\n",
    "        return \"Unavailable Movement\"\n",
    "    elif board[i-1][j-1] == \"W\":\n",
    "        return \"Unavailable Movement\""
   ]
  },
  {
   "cell_type": "code",
   "execution_count": 9,
   "id": "8965e502",
   "metadata": {},
   "outputs": [],
   "source": [
    "def white_attack_right(i,j):\n",
    "    if i == 3 :\n",
    "        return \"Unavailable Movement\"\n",
    "    elif j == 0 :\n",
    "        return \"Unavailable Movement\"\n",
    "    elif board[i][j] == \"-\" :\n",
    "        return \"Unavailable Movement\"\n",
    "    elif board[i][j] == \"B\"  :\n",
    "        return \"Unavailable Movement\"    \n",
    "    elif board[i+1][j-1] == \"B\":\n",
    "        board[i+1][j-1]=board[i][j]\n",
    "        board[i][j]=\"-\"\n",
    "        return \"white_attack_right\"\n",
    "    elif board[i+1][j-1] == \"-\":\n",
    "        return \"Unavailable Movement\"\n",
    "    elif board[i+1][j-1] == \"W\":\n",
    "        return \"Unavailable Movement\""
   ]
  },
  {
   "cell_type": "code",
   "execution_count": 10,
   "id": "9759395d",
   "metadata": {},
   "outputs": [],
   "source": [
    "board = pd.DataFrame([[\"B\",\"B\",\"B\",\"B\"],\n",
    "                      [\"-\",\"-\",\"-\",\"-\"],\n",
    "                      [\"-\",\"-\",\"-\",\"-\"],\n",
    "                      [\"W\",\"W\",\"W\",\"W\"]])"
   ]
  },
  {
   "cell_type": "code",
   "execution_count": 11,
   "id": "01e6e2aa",
   "metadata": {
    "scrolled": true
   },
   "outputs": [
    {
     "data": {
      "text/html": [
       "<div>\n",
       "<style scoped>\n",
       "    .dataframe tbody tr th:only-of-type {\n",
       "        vertical-align: middle;\n",
       "    }\n",
       "\n",
       "    .dataframe tbody tr th {\n",
       "        vertical-align: top;\n",
       "    }\n",
       "\n",
       "    .dataframe thead th {\n",
       "        text-align: right;\n",
       "    }\n",
       "</style>\n",
       "<table border=\"1\" class=\"dataframe\">\n",
       "  <thead>\n",
       "    <tr style=\"text-align: right;\">\n",
       "      <th></th>\n",
       "      <th>0</th>\n",
       "      <th>1</th>\n",
       "      <th>2</th>\n",
       "      <th>3</th>\n",
       "    </tr>\n",
       "  </thead>\n",
       "  <tbody>\n",
       "    <tr>\n",
       "      <th>0</th>\n",
       "      <td>B</td>\n",
       "      <td>B</td>\n",
       "      <td>B</td>\n",
       "      <td>B</td>\n",
       "    </tr>\n",
       "    <tr>\n",
       "      <th>1</th>\n",
       "      <td>-</td>\n",
       "      <td>-</td>\n",
       "      <td>-</td>\n",
       "      <td>-</td>\n",
       "    </tr>\n",
       "    <tr>\n",
       "      <th>2</th>\n",
       "      <td>-</td>\n",
       "      <td>-</td>\n",
       "      <td>-</td>\n",
       "      <td>-</td>\n",
       "    </tr>\n",
       "    <tr>\n",
       "      <th>3</th>\n",
       "      <td>W</td>\n",
       "      <td>W</td>\n",
       "      <td>W</td>\n",
       "      <td>W</td>\n",
       "    </tr>\n",
       "  </tbody>\n",
       "</table>\n",
       "</div>"
      ],
      "text/plain": [
       "   0  1  2  3\n",
       "0  B  B  B  B\n",
       "1  -  -  -  -\n",
       "2  -  -  -  -\n",
       "3  W  W  W  W"
      ]
     },
     "execution_count": 11,
     "metadata": {},
     "output_type": "execute_result"
    }
   ],
   "source": [
    "board"
   ]
  },
  {
   "cell_type": "code",
   "execution_count": 12,
   "id": "9a46d0fa",
   "metadata": {},
   "outputs": [],
   "source": [
    "action_table=pd.DataFrame([[available_action_white(0,0),available_action_white(1,0),available_action_white(2,0),available_action_white(3,0)],\n",
    "  [available_action_white(0,1),available_action_white(1,1),available_action_white(2,1),available_action_white(3,1)],\n",
    "  [available_action_white(0,2),available_action_white(1,2),available_action_white(2,2),available_action_white(3,2)],\n",
    "  [available_action_white(0,3),available_action_white(1,3),available_action_white(2,3),available_action_white(3,3)]])"
   ]
  },
  {
   "cell_type": "code",
   "execution_count": 13,
   "id": "b425f46c",
   "metadata": {},
   "outputs": [
    {
     "data": {
      "text/html": [
       "<div>\n",
       "<style scoped>\n",
       "    .dataframe tbody tr th:only-of-type {\n",
       "        vertical-align: middle;\n",
       "    }\n",
       "\n",
       "    .dataframe tbody tr th {\n",
       "        vertical-align: top;\n",
       "    }\n",
       "\n",
       "    .dataframe thead th {\n",
       "        text-align: right;\n",
       "    }\n",
       "</style>\n",
       "<table border=\"1\" class=\"dataframe\">\n",
       "  <thead>\n",
       "    <tr style=\"text-align: right;\">\n",
       "      <th></th>\n",
       "      <th>0</th>\n",
       "      <th>1</th>\n",
       "      <th>2</th>\n",
       "      <th>3</th>\n",
       "    </tr>\n",
       "  </thead>\n",
       "  <tbody>\n",
       "    <tr>\n",
       "      <th>0</th>\n",
       "      <td>N</td>\n",
       "      <td>N</td>\n",
       "      <td>N</td>\n",
       "      <td>N</td>\n",
       "    </tr>\n",
       "    <tr>\n",
       "      <th>1</th>\n",
       "      <td>N</td>\n",
       "      <td>N</td>\n",
       "      <td>N</td>\n",
       "      <td>N</td>\n",
       "    </tr>\n",
       "    <tr>\n",
       "      <th>2</th>\n",
       "      <td>N</td>\n",
       "      <td>N</td>\n",
       "      <td>N</td>\n",
       "      <td>N</td>\n",
       "    </tr>\n",
       "    <tr>\n",
       "      <th>3</th>\n",
       "      <td>U</td>\n",
       "      <td>U</td>\n",
       "      <td>U</td>\n",
       "      <td>U</td>\n",
       "    </tr>\n",
       "  </tbody>\n",
       "</table>\n",
       "</div>"
      ],
      "text/plain": [
       "   0  1  2  3\n",
       "0  N  N  N  N\n",
       "1  N  N  N  N\n",
       "2  N  N  N  N\n",
       "3  U  U  U  U"
      ]
     },
     "execution_count": 13,
     "metadata": {},
     "output_type": "execute_result"
    }
   ],
   "source": [
    "action_table"
   ]
  },
  {
   "cell_type": "code",
   "execution_count": 14,
   "id": "0a83900c",
   "metadata": {},
   "outputs": [],
   "source": [
    "move_list = []\n",
    "for i in range (4):\n",
    "    for j in range (4):\n",
    "        if action_table[i][j] == \"U\":\n",
    "            move_list.append(\"-U-\"+str(i)+str(j))\n",
    "        if action_table[i][j] == \"L\":\n",
    "            move_list.append(\"L--\"+str(i)+str(j))\n",
    "        if action_table[i][j] == \"R\":\n",
    "            move_list.append(\"__R\"+str(i)+str(j))\n",
    "        if action_table[i][j] == \"UL\": \n",
    "            move_list.append(\"LU-\"+str(i)+str(j))\n",
    "        if action_table[i][j] == \"UR\":\n",
    "            move_list.append(\"-UR\"+str(i)+str(j))\n",
    "        if action_table[i][j] == \"ULR\":\n",
    "            move_list.append(\"LUR\"+str(i)+str(j))\n",
    "        if action_table[i][j] == \"LR\":    \n",
    "            move_list.append(\"L-R\"+str(i)+str(j))"
   ]
  },
  {
   "cell_type": "code",
   "execution_count": 19,
   "id": "fe4030ab",
   "metadata": {
    "scrolled": true
   },
   "outputs": [
    {
     "data": {
      "text/plain": [
       "['-U-03', '-U-13', '-U-23', '-U-33']"
      ]
     },
     "execution_count": 19,
     "metadata": {},
     "output_type": "execute_result"
    }
   ],
   "source": [
    "move_list"
   ]
  },
  {
   "cell_type": "code",
   "execution_count": 20,
   "id": "f9d1b4f1",
   "metadata": {},
   "outputs": [
    {
     "ename": "NameError",
     "evalue": "name 'kk' is not defined",
     "output_type": "error",
     "traceback": [
      "\u001b[0;31m---------------------------------------------------------------------------\u001b[0m",
      "\u001b[0;31mNameError\u001b[0m                                 Traceback (most recent call last)",
      "\u001b[1;32m/Users/yangjiseung/Downloads/Chess_강화학습 업데이트 0911 (1).ipynb Cell 16\u001b[0m in \u001b[0;36m<cell line: 1>\u001b[0;34m()\u001b[0m\n\u001b[0;32m----> <a href='vscode-notebook-cell:/Users/yangjiseung/Downloads/Chess_%E1%84%80%E1%85%A1%E1%86%BC%E1%84%92%E1%85%AA%E1%84%92%E1%85%A1%E1%86%A8%E1%84%89%E1%85%B3%E1%86%B8%20%E1%84%8B%E1%85%A5%E1%86%B8%E1%84%83%E1%85%A6%E1%84%8B%E1%85%B5%E1%84%90%E1%85%B3%200911%20%281%29.ipynb#X21sZmlsZQ%3D%3D?line=0'>1</a>\u001b[0m kk[\u001b[39m-\u001b[39m\u001b[39m2\u001b[39m]\n",
      "\u001b[0;31mNameError\u001b[0m: name 'kk' is not defined"
     ]
    }
   ],
   "source": [
    "kk[-2]"
   ]
  },
  {
   "cell_type": "code",
   "execution_count": null,
   "id": "04687884",
   "metadata": {},
   "outputs": [
    {
     "data": {
      "text/plain": [
       "'U--03'"
      ]
     },
     "execution_count": 459,
     "metadata": {},
     "output_type": "execute_result"
    }
   ],
   "source": [
    "move_list[0]"
   ]
  },
  {
   "cell_type": "code",
   "execution_count": 17,
   "id": "ff7f9c75",
   "metadata": {},
   "outputs": [],
   "source": [
    "def random_walk (x):\n",
    "    kk=move_list[np.random.randint(0,len(move_list))]\n",
    "    random_number = np.random.randint(0,2)\n",
    "    random_number2 = np.random.randint(0,3)\n",
    "    if kk[0:3] == \"-U-\" :\n",
    "        white_move_up(int(kk[-2]),int(kk[-1]))\n",
    "    elif kk[0:3] == \"--R\" :\n",
    "        white_attack_right(int(kk[-2]),int(kk[-1]))    \n",
    "    elif kk[0:3] == \"L--\" :\n",
    "        white_attack_left(int(kk[-2]),int(kk[-1]))\n",
    "    elif kk[0:3] == \"LU-\" :\n",
    "        if random_number == 0 :\n",
    "            white_move_up(int(kk[-2]),int(kk[-1]))  \n",
    "        if random_number == 1 :\n",
    "            white_attack_left(int(kk[-2]),int(kk[-1])) \n",
    "            \n",
    "    elif kk[0:3] == \"-UR\" :\n",
    "        if random_number == 0 :\n",
    "            white_move_up(int(kk[-2]),int(kk[-1]))  \n",
    "        if random_number == 1 :\n",
    "            white_attack_right(int(kk[-2]),int(kk[-1])) \n",
    "    elif kk[0:3] == \"L-R\" :\n",
    "        if random_number == 0 :\n",
    "            white_attack_left(int(kk[-2]),int(kk[-1]))  \n",
    "        if random_number == 1 :\n",
    "            white_attack_right(int(kk[-2]),int(kk[-1])) \n",
    "    elif kk[0:3] == \"LUR\" :\n",
    "        if random_number2 == 0 :\n",
    "            white_move_up(int(kk[-2]),int(kk[-1]))  \n",
    "        if random_number2 == 1 :\n",
    "            white_attack_left(int(kk[-2]),int(kk[-1])) \n",
    "        if random_number2 == 2 :\n",
    "            white_attack_right(int(kk[-2]),int(kk[-1]))     "
   ]
  },
  {
   "cell_type": "code",
   "execution_count": 18,
   "id": "3b9dc541",
   "metadata": {},
   "outputs": [],
   "source": [
    "random_walk(0)"
   ]
  },
  {
   "cell_type": "code",
   "execution_count": null,
   "id": "6132589f",
   "metadata": {
    "scrolled": false
   },
   "outputs": [
    {
     "data": {
      "text/html": [
       "<div>\n",
       "<style scoped>\n",
       "    .dataframe tbody tr th:only-of-type {\n",
       "        vertical-align: middle;\n",
       "    }\n",
       "\n",
       "    .dataframe tbody tr th {\n",
       "        vertical-align: top;\n",
       "    }\n",
       "\n",
       "    .dataframe thead th {\n",
       "        text-align: right;\n",
       "    }\n",
       "</style>\n",
       "<table border=\"1\" class=\"dataframe\">\n",
       "  <thead>\n",
       "    <tr style=\"text-align: right;\">\n",
       "      <th></th>\n",
       "      <th>0</th>\n",
       "      <th>1</th>\n",
       "      <th>2</th>\n",
       "      <th>3</th>\n",
       "    </tr>\n",
       "  </thead>\n",
       "  <tbody>\n",
       "    <tr>\n",
       "      <th>0</th>\n",
       "      <td>B</td>\n",
       "      <td>B</td>\n",
       "      <td>B</td>\n",
       "      <td>B</td>\n",
       "    </tr>\n",
       "    <tr>\n",
       "      <th>1</th>\n",
       "      <td>-</td>\n",
       "      <td>-</td>\n",
       "      <td>-</td>\n",
       "      <td>-</td>\n",
       "    </tr>\n",
       "    <tr>\n",
       "      <th>2</th>\n",
       "      <td>-</td>\n",
       "      <td>-</td>\n",
       "      <td>-</td>\n",
       "      <td>-</td>\n",
       "    </tr>\n",
       "    <tr>\n",
       "      <th>3</th>\n",
       "      <td>W</td>\n",
       "      <td>W</td>\n",
       "      <td>W</td>\n",
       "      <td>W</td>\n",
       "    </tr>\n",
       "  </tbody>\n",
       "</table>\n",
       "</div>"
      ],
      "text/plain": [
       "   0  1  2  3\n",
       "0  B  B  B  B\n",
       "1  -  -  -  -\n",
       "2  -  -  -  -\n",
       "3  W  W  W  W"
      ]
     },
     "execution_count": 466,
     "metadata": {},
     "output_type": "execute_result"
    }
   ],
   "source": [
    "board"
   ]
  },
  {
   "cell_type": "code",
   "execution_count": null,
   "id": "a3a39c45",
   "metadata": {},
   "outputs": [
    {
     "data": {
      "text/plain": [
       "['-U-03', '-U-13', '-U-23', '-U-33']"
      ]
     },
     "execution_count": 481,
     "metadata": {},
     "output_type": "execute_result"
    }
   ],
   "source": [
    "move_list"
   ]
  },
  {
   "cell_type": "code",
   "execution_count": null,
   "id": "eb7a1629",
   "metadata": {},
   "outputs": [
    {
     "data": {
      "text/html": [
       "<div>\n",
       "<style scoped>\n",
       "    .dataframe tbody tr th:only-of-type {\n",
       "        vertical-align: middle;\n",
       "    }\n",
       "\n",
       "    .dataframe tbody tr th {\n",
       "        vertical-align: top;\n",
       "    }\n",
       "\n",
       "    .dataframe thead th {\n",
       "        text-align: right;\n",
       "    }\n",
       "</style>\n",
       "<table border=\"1\" class=\"dataframe\">\n",
       "  <thead>\n",
       "    <tr style=\"text-align: right;\">\n",
       "      <th></th>\n",
       "      <th>0</th>\n",
       "      <th>1</th>\n",
       "      <th>2</th>\n",
       "      <th>3</th>\n",
       "    </tr>\n",
       "  </thead>\n",
       "  <tbody>\n",
       "    <tr>\n",
       "      <th>0</th>\n",
       "      <td>N</td>\n",
       "      <td>N</td>\n",
       "      <td>N</td>\n",
       "      <td>N</td>\n",
       "    </tr>\n",
       "    <tr>\n",
       "      <th>1</th>\n",
       "      <td>N</td>\n",
       "      <td>N</td>\n",
       "      <td>N</td>\n",
       "      <td>N</td>\n",
       "    </tr>\n",
       "    <tr>\n",
       "      <th>2</th>\n",
       "      <td>N</td>\n",
       "      <td>N</td>\n",
       "      <td>N</td>\n",
       "      <td>N</td>\n",
       "    </tr>\n",
       "    <tr>\n",
       "      <th>3</th>\n",
       "      <td>U</td>\n",
       "      <td>U</td>\n",
       "      <td>U</td>\n",
       "      <td>U</td>\n",
       "    </tr>\n",
       "  </tbody>\n",
       "</table>\n",
       "</div>"
      ],
      "text/plain": [
       "   0  1  2  3\n",
       "0  N  N  N  N\n",
       "1  N  N  N  N\n",
       "2  N  N  N  N\n",
       "3  U  U  U  U"
      ]
     },
     "execution_count": 469,
     "metadata": {},
     "output_type": "execute_result"
    }
   ],
   "source": [
    "action_table"
   ]
  },
  {
   "cell_type": "code",
   "execution_count": null,
   "id": "4c7ca8fd",
   "metadata": {
    "scrolled": true
   },
   "outputs": [
    {
     "data": {
      "text/plain": [
       "array([[0., 0., 0., 0., 0., 0., 0., 0., 0., 0.],\n",
       "       [0., 0., 0., 0., 0., 0., 0., 0., 0., 0.],\n",
       "       [0., 0., 0., 0., 0., 0., 0., 0., 0., 0.]])"
      ]
     },
     "execution_count": 450,
     "metadata": {},
     "output_type": "execute_result"
    }
   ],
   "source": [
    "Q = np.zeros([3,10])\n",
    "Q"
   ]
  },
  {
   "cell_type": "code",
   "execution_count": null,
   "id": "9ba7b85b",
   "metadata": {},
   "outputs": [
    {
     "data": {
      "text/plain": [
       "'03'"
      ]
     },
     "execution_count": 480,
     "metadata": {},
     "output_type": "execute_result"
    }
   ],
   "source": [
    "move_list[0][-2:]"
   ]
  },
  {
   "cell_type": "code",
   "execution_count": null,
   "id": "73c32298",
   "metadata": {},
   "outputs": [],
   "source": []
  },
  {
   "cell_type": "code",
   "execution_count": null,
   "id": "1df029f3",
   "metadata": {},
   "outputs": [
    {
     "data": {
      "text/plain": [
       "4"
      ]
     },
     "execution_count": 470,
     "metadata": {},
     "output_type": "execute_result"
    }
   ],
   "source": [
    "len(move_list)"
   ]
  },
  {
   "cell_type": "code",
   "execution_count": null,
   "id": "94633f9e",
   "metadata": {},
   "outputs": [],
   "source": [
    "def random_walk2 (x):\n",
    "    def available_action_white(i,j):\n",
    "        if board[i][j] == \"W\" :\n",
    "            if i != 0 and i != 3 and j != 0:\n",
    "                if board[i][j-1] == \"-\" :\n",
    "                    if board[i-1][j-1] != \"B\" and board[i+1][j-1] != \"B\" :\n",
    "                        return \"U\"\n",
    "                    if board[i-1][j-1] == \"B\" and board[i+1][j-1] != \"B\" :\n",
    "                        return \"UL\"\n",
    "                    if board[i-1][j-1] != \"B\" and board[i+1][j-1] == \"B\" :\n",
    "                        return \"UR\"              \n",
    "                    if board[i-1][j-1] == \"B\" and board[i+1][j-1] == \"B\" :\n",
    "                        return \"ULR\"\n",
    "                \n",
    "                if board[i][j-1] != \"-\"  :\n",
    "                    if board[i-1][j-1] != \"B\" and board[i+1][j-1] != \"B\" :\n",
    "                        return \"N\"\n",
    "                    if board[i-1][j-1] == \"B\" and board[i+1][j-1] != \"B\" :\n",
    "                        return \"L\"\n",
    "                    if board[i-1][j-1] != \"B\" and board[i+1][j-1] == \"B\" :\n",
    "                        return \"R\"                \n",
    "                    if board[i-1][j-1] == \"B\" and board[i+1][j-1] == \"B\" :\n",
    "                        return \"LR\"\n",
    "    \n",
    "            if i == 0 and j != 0:\n",
    "                if board[i][j-1] == \"-\" :\n",
    "                    if board[i+1][j-1] != \"B\" :\n",
    "                        return \"U\"\n",
    "                    if board[i+1][j-1] == \"B\" :\n",
    "                        return \"UR\" \n",
    "                    \n",
    "                if board[i][j-1] != \"-\" :           \n",
    "                    if board[i+1][j-1] != \"B\" :\n",
    "                        return \"N\"\n",
    "                    if board[i+1][j-1] == \"B\" :\n",
    "                        return \"R\"                \n",
    "    \n",
    "                \n",
    "            if i == 3 and j != 0: \n",
    "                if board[i][j-1] == \"-\" : \n",
    "                    if board[i-1][j-1] != \"B\" :\n",
    "                        return \"U\"\n",
    "                    if board[i-1][j-1] == \"B\" :\n",
    "                        return \"UL\"   \n",
    "                    \n",
    "                if board[i][j-1] != \"-\" :            \n",
    "                    if board[i-1][j-1] != \"B\" :\n",
    "                        return \"N\"\n",
    "                    if board[i-1][j-1] == \"B\" :\n",
    "                        return \"L\"             \n",
    "            elif j == 0:  \n",
    "                return \"N\"\n",
    "        else :\n",
    "            return \"N\"\n",
    "    action_table=pd.DataFrame([[available_action_white(0,0),available_action_white(1,0),available_action_white(2,0),available_action_white(3,0)],\n",
    "                               [available_action_white(0,1),available_action_white(1,1),available_action_white(2,1),available_action_white(3,1)],\n",
    "                               [available_action_white(0,2),available_action_white(1,2),available_action_white(2,2),available_action_white(3,2)],\n",
    "                               [available_action_white(0,3),available_action_white(1,3),available_action_white(2,3),available_action_white(3,3)]])\n",
    "    move_list = []\n",
    "    for i in range (4):\n",
    "        for j in range (4):\n",
    "            if action_table[i][j] == \"U\":\n",
    "                move_list.append(\"U--\"+str(i)+str(j))\n",
    "            if action_table[i][j] == \"L\":\n",
    "                move_list.append(\"L--\"+str(i)+str(j))\n",
    "            if action_table[i][j] == \"R\":\n",
    "                move_list.append(\"R--\"+str(i)+str(j))\n",
    "            if action_table[i][j] == \"UL\": \n",
    "                move_list.append(\"UL-\"+str(i)+str(j))\n",
    "            if action_table[i][j] == \"UR\":\n",
    "                move_list.append(\"UR-\"+str(i)+str(j))\n",
    "            if action_table[i][j] == \"ULR\":\n",
    "                move_list.append(\"ULR\"+str(i)+str(j))\n",
    "            if action_table[i][j] == \"LR\":    \n",
    "                move_list.append(\"LR-\"+str(i)+str(j))\n",
    "    return move_list\n",
    "    def random_walk (x):\n",
    "        kk=move_list[np.random.randint(0,len(move_list))]\n",
    "        random_number = np.random.randint(0,2)\n",
    "        random_number2 = np.random.randint(0,3)\n",
    "        if kk[0:3] == \"U--\" :\n",
    "            white_move_up(int(kk[-2]),int(kk[-1]))\n",
    "        elif kk[0:3] == \"R--\" :\n",
    "            white_attack_right(int(kk[-2]),int(kk[-1]))    \n",
    "        elif kk[0:3] == \"L--\" :\n",
    "            white_attack_left(int(kk[-2]),int(kk[-1]))\n",
    "        elif kk[0:3] == \"UL-\" :\n",
    "            if random_number == 0 :\n",
    "                white_move_up(int(kk[-2]),int(kk[-1]))  \n",
    "            if random_number == 1 :\n",
    "                white_attack_left(int(kk[-2]),int(kk[-1])) \n",
    "                \n",
    "        elif kk[0:3] == \"UR-\" :\n",
    "            if random_number == 0 :\n",
    "                white_move_up(int(kk[-2]),int(kk[-1]))  \n",
    "            if random_number == 1 :\n",
    "                white_attack_right(int(kk[-2]),int(kk[-1])) \n",
    "        elif kk[0:3] == \"LR-\" :\n",
    "            if random_number == 0 :\n",
    "                white_attack_left(int(kk[-2]),int(kk[-1]))  \n",
    "            if random_number == 1 :\n",
    "                white_attack_right(int(kk[-2]),int(kk[-1])) \n",
    "        elif kk[0:3] == \"ULR\" :\n",
    "            if random_number2 == 0 :\n",
    "                white_move_up(int(kk[-2]),int(kk[-1]))  \n",
    "            if random_number2 == 1 :\n",
    "                white_attack_left(int(kk[-2]),int(kk[-1])) \n",
    "            if random_number2 == 2 :\n",
    "                white_attack_right(int(kk[-2]),int(kk[-1]))  \n",
    "    \n",
    "    random_walk(0)"
   ]
  }
 ],
 "metadata": {
  "kernelspec": {
   "display_name": "Python 3.8.9 64-bit",
   "language": "python",
   "name": "python3"
  },
  "language_info": {
   "codemirror_mode": {
    "name": "ipython",
    "version": 3
   },
   "file_extension": ".py",
   "mimetype": "text/x-python",
   "name": "python",
   "nbconvert_exporter": "python",
   "pygments_lexer": "ipython3",
   "version": "3.8.9"
  },
  "vscode": {
   "interpreter": {
    "hash": "31f2aee4e71d21fbe5cf8b01ff0e069b9275f58929596ceb00d14d90e3e16cd6"
   }
  }
 },
 "nbformat": 4,
 "nbformat_minor": 5
}
